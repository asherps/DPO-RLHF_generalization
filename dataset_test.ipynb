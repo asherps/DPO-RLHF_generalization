{
 "cells": [
  {
   "cell_type": "code",
   "execution_count": 1,
   "id": "1a0a52a8-ecb9-433e-86aa-cf4037843d8b",
   "metadata": {},
   "outputs": [],
   "source": [
    "from trl import PPOConfig, PPOTrainer\n",
    "import utils\n",
    "from transformers import (\n",
    "    AutoModelForCausalLM,\n",
    "    AutoTokenizer,\n",
    "    AutoModel,\n",
    "    Trainer,\n",
    "    TrainingArguments,\n",
    "    BertModel,\n",
    "    pipeline,\n",
    "    AutoModelForSequenceClassification,\n",
    ")\n",
    "import yaml\n",
    "import getpass\n",
    "import wandb\n",
    "from typing import Dict, Any\n",
    "import torch as t\n",
    "from peft import get_peft_config, get_peft_model, LoraConfig, TaskType\n",
    "from tqdm import tqdm\n",
    "import trl\n",
    "import torch.nn.functional as F\n",
    "\n",
    "import datasets\n",
    "import random\n",
    "import os\n",
    "import time"
   ]
  },
  {
   "cell_type": "code",
   "execution_count": 2,
   "id": "97c38864-2b13-45b0-ae6d-0ae929b38d28",
   "metadata": {},
   "outputs": [
    {
     "name": "stdout",
     "output_type": "stream",
     "text": [
      "Sat May 11 05:03:59 2024       \n",
      "+---------------------------------------------------------------------------------------+\n",
      "| NVIDIA-SMI 535.161.08             Driver Version: 535.161.08   CUDA Version: 12.2     |\n",
      "|-----------------------------------------+----------------------+----------------------+\n",
      "| GPU  Name                 Persistence-M | Bus-Id        Disp.A | Volatile Uncorr. ECC |\n",
      "| Fan  Temp   Perf          Pwr:Usage/Cap |         Memory-Usage | GPU-Util  Compute M. |\n",
      "|                                         |                      |               MIG M. |\n",
      "|=========================================+======================+======================|\n",
      "|   0  NVIDIA A100-SXM4-80GB          On  | 00000000:CA:00.0 Off |                    0 |\n",
      "| N/A   44C    P0              64W / 400W |      0MiB / 81920MiB |      0%      Default |\n",
      "|                                         |                      |             Disabled |\n",
      "+-----------------------------------------+----------------------+----------------------+\n",
      "                                                                                         \n",
      "+---------------------------------------------------------------------------------------+\n",
      "| Processes:                                                                            |\n",
      "|  GPU   GI   CI        PID   Type   Process name                            GPU Memory |\n",
      "|        ID   ID                                                             Usage      |\n",
      "|=======================================================================================|\n",
      "|  No running processes found                                                           |\n",
      "+---------------------------------------------------------------------------------------+\n"
     ]
    }
   ],
   "source": [
    "!nvidia-smi"
   ]
  },
  {
   "cell_type": "code",
   "execution_count": 9,
   "id": "5dc8bef6-3432-4104-8bc7-ddc99bb5bcd8",
   "metadata": {},
   "outputs": [
    {
     "name": "stdout",
     "output_type": "stream",
     "text": [
      "test0: 35544644096\n"
     ]
    },
    {
     "data": {
      "application/vnd.jupyter.widget-view+json": {
       "model_id": "d0106e43ce524eb08863bbdc102d8dfe",
       "version_major": 2,
       "version_minor": 0
      },
      "text/plain": [
       "Loading checkpoint shards:   0%|          | 0/3 [00:00<?, ?it/s]"
      ]
     },
     "metadata": {},
     "output_type": "display_data"
    },
    {
     "name": "stderr",
     "output_type": "stream",
     "text": [
      "Some weights of MistralForSequenceClassification were not initialized from the model checkpoint at mistralai/Mistral-7B-Instruct-v0.2 and are newly initialized: ['score.weight']\n",
      "You should probably TRAIN this model on a down-stream task to be able to use it for predictions and inference.\n"
     ]
    },
    {
     "name": "stdout",
     "output_type": "stream",
     "text": [
      "test1: 50316490752\n"
     ]
    }
   ],
   "source": [
    "test_counter = 0\n",
    "device = \"cuda\"\n",
    "\n",
    "print(f\"test{test_counter}: {t.cuda.memory_allocated()}\")\n",
    "test_counter += 1\n",
    "\n",
    "# reward_model_path = \"./drive/root/project_data/calibrated_alignment/runs/instruct/training/reward_model/run_3/checkpoints/checkpoint-4000\"\n",
    "reward_model_path = \"./data/instruct/training/reward_model/run_63/checkpoints/checkpoint-2000\"\n",
    "\n",
    "# reward_model = AutoModelForSequenceClassification.from_pretrained(reward_model_path, torch_dtype=t.bfloat16, num_labels=1).eval()\n",
    "# reward_model = reward_model.to(device)\n",
    "\n",
    "\n",
    "# reward_model.config.pad_token_id = reward_model.config.eos_token_id\n",
    "\n",
    "# tokenizer = AutoTokenizer.from_pretrained(reward_model_path, padding_side='left')\n",
    "# tokenizer.pad_token = tokenizer.eos_token\n",
    "\n",
    "# reward_model.config.pad_token_id = tokenizer.eos_token_id\n",
    "\n",
    "tokenizer, reward_model = utils.load_model(\n",
    "    reward_model_path,\n",
    "    reward_model=True,\n",
    "    eval=True,\n",
    "    PPO=False\n",
    ")\n",
    "\n",
    "reward_model.config.pad_token_id = tokenizer.pad_token_id\n",
    "dataset_info = {\n",
    "    \"name\": \"Anthropic/hh-rlhf\",\n",
    "    \"data_dir\": \"default\" \n",
    "}\n",
    "\n",
    "print(f\"test{test_counter}: {t.cuda.memory_allocated()}\")\n",
    "test_counter += 1"
   ]
  },
  {
   "cell_type": "code",
   "execution_count": 7,
   "id": "5a9868fc-a503-4c5e-991e-5fccd2629e83",
   "metadata": {},
   "outputs": [],
   "source": [
    "def prep_for_reward_trainer(sample):\n",
    "    # print(sample)\n",
    "    chosen = [p + c for p, c in zip(sample[\"prompt\"], sample[\"chosen\"])]\n",
    "    chosen_inputs = tokenizer(\n",
    "        chosen,\n",
    "        return_tensors=\"pt\",\n",
    "        padding=\"max_length\",\n",
    "        truncation=True,\n",
    "        max_length=1536,\n",
    "    )\n",
    "\n",
    "    rejected = [p + r for p, r in zip(sample[\"prompt\"], sample[\"rejected\"])]\n",
    "    rejected_inputs = tokenizer(\n",
    "        rejected,\n",
    "        return_tensors=\"pt\",\n",
    "        padding=\"max_length\",\n",
    "        truncation=True,\n",
    "        max_length=1536,\n",
    "    )\n",
    "    return {\n",
    "        \"input_ids_chosen\": chosen_inputs[\"input_ids\"],\n",
    "        \"attention_mask_chosen\": chosen_inputs[\"attention_mask\"],\n",
    "        \"input_ids_rejected\": rejected_inputs[\"input_ids\"],\n",
    "        \"attention_mask_rejected\": rejected_inputs[\"attention_mask\"],\n",
    "    }"
   ]
  },
  {
   "cell_type": "code",
   "execution_count": 10,
   "id": "419687cc-9a7b-4bb9-8fb3-e3ecc81634f9",
   "metadata": {},
   "outputs": [
    {
     "data": {
      "application/vnd.jupyter.widget-view+json": {
       "model_id": "d30c8935efdc4f4eaa114b1b32d05860",
       "version_major": 2,
       "version_minor": 0
      },
      "text/plain": [
       "Map:   0%|          | 0/144720 [00:00<?, ? examples/s]"
      ]
     },
     "metadata": {},
     "output_type": "display_data"
    },
    {
     "data": {
      "application/vnd.jupyter.widget-view+json": {
       "model_id": "32ac4a39a80c4b3cbda1f421539c2b47",
       "version_major": 2,
       "version_minor": 0
      },
      "text/plain": [
       "Map:   0%|          | 0/16080 [00:00<?, ? examples/s]"
      ]
     },
     "metadata": {},
     "output_type": "display_data"
    },
    {
     "data": {
      "application/vnd.jupyter.widget-view+json": {
       "model_id": "8174b763ee794dfe8a9160df24b8b48e",
       "version_major": 2,
       "version_minor": 0
      },
      "text/plain": [
       "Filter:   0%|          | 0/144720 [00:00<?, ? examples/s]"
      ]
     },
     "metadata": {},
     "output_type": "display_data"
    },
    {
     "data": {
      "application/vnd.jupyter.widget-view+json": {
       "model_id": "5ac946f0122f4165a972453382338672",
       "version_major": 2,
       "version_minor": 0
      },
      "text/plain": [
       "Filter:   0%|          | 0/16080 [00:00<?, ? examples/s]"
      ]
     },
     "metadata": {},
     "output_type": "display_data"
    },
    {
     "name": "stderr",
     "output_type": "stream",
     "text": [
      "  0%|          | 0/20 [00:00<?, ?it/s]"
     ]
    },
    {
     "data": {
      "application/vnd.jupyter.widget-view+json": {
       "model_id": "41011484860545cd8445443562cfd865",
       "version_major": 2,
       "version_minor": 0
      },
      "text/plain": [
       "Map:   0%|          | 0/50 [00:00<?, ? examples/s]"
      ]
     },
     "metadata": {},
     "output_type": "display_data"
    },
    {
     "name": "stderr",
     "output_type": "stream",
     "text": [
      "  5%|▌         | 1/20 [00:12<03:58, 12.54s/it]"
     ]
    },
    {
     "name": "stdout",
     "output_type": "stream",
     "text": [
      "tensor(0.6000, device='cuda:0')\n",
      "tensor(0.0898, device='cuda:0', dtype=torch.bfloat16)\n"
     ]
    },
    {
     "data": {
      "application/vnd.jupyter.widget-view+json": {
       "model_id": "fdd3fadca93c419ead35c6f3774b9a10",
       "version_major": 2,
       "version_minor": 0
      },
      "text/plain": [
       "Map:   0%|          | 0/50 [00:00<?, ? examples/s]"
      ]
     },
     "metadata": {},
     "output_type": "display_data"
    },
    {
     "name": "stderr",
     "output_type": "stream",
     "text": [
      " 10%|█         | 2/20 [00:25<03:45, 12.54s/it]"
     ]
    },
    {
     "name": "stdout",
     "output_type": "stream",
     "text": [
      "tensor(0.5300, device='cuda:0')\n",
      "tensor(0.0532, device='cuda:0', dtype=torch.bfloat16)\n"
     ]
    },
    {
     "data": {
      "application/vnd.jupyter.widget-view+json": {
       "model_id": "b4186922bfce4c86b513539e0babfcad",
       "version_major": 2,
       "version_minor": 0
      },
      "text/plain": [
       "Map:   0%|          | 0/50 [00:00<?, ? examples/s]"
      ]
     },
     "metadata": {},
     "output_type": "display_data"
    },
    {
     "name": "stderr",
     "output_type": "stream",
     "text": [
      " 15%|█▌        | 3/20 [00:37<03:33, 12.55s/it]"
     ]
    },
    {
     "name": "stdout",
     "output_type": "stream",
     "text": [
      "tensor(0.5533, device='cuda:0')\n",
      "tensor(0.0547, device='cuda:0', dtype=torch.bfloat16)\n"
     ]
    },
    {
     "data": {
      "application/vnd.jupyter.widget-view+json": {
       "model_id": "4b30a06003b8415dbc8c88e24ce5fb73",
       "version_major": 2,
       "version_minor": 0
      },
      "text/plain": [
       "Map:   0%|          | 0/50 [00:00<?, ? examples/s]"
      ]
     },
     "metadata": {},
     "output_type": "display_data"
    },
    {
     "name": "stderr",
     "output_type": "stream",
     "text": [
      " 20%|██        | 4/20 [00:50<03:20, 12.56s/it]"
     ]
    },
    {
     "name": "stdout",
     "output_type": "stream",
     "text": [
      "tensor(0.5600, device='cuda:0')\n",
      "tensor(0.0640, device='cuda:0', dtype=torch.bfloat16)\n"
     ]
    },
    {
     "data": {
      "application/vnd.jupyter.widget-view+json": {
       "model_id": "c959f3c5f853467db759caafec8b8cc6",
       "version_major": 2,
       "version_minor": 0
      },
      "text/plain": [
       "Map:   0%|          | 0/50 [00:00<?, ? examples/s]"
      ]
     },
     "metadata": {},
     "output_type": "display_data"
    },
    {
     "name": "stderr",
     "output_type": "stream",
     "text": [
      " 25%|██▌       | 5/20 [01:02<03:08, 12.57s/it]"
     ]
    },
    {
     "name": "stdout",
     "output_type": "stream",
     "text": [
      "tensor(0.5400, device='cuda:0')\n",
      "tensor(0.0510, device='cuda:0', dtype=torch.bfloat16)\n"
     ]
    },
    {
     "data": {
      "application/vnd.jupyter.widget-view+json": {
       "model_id": "5b752e1ce05348a7b72af5852f61784a",
       "version_major": 2,
       "version_minor": 0
      },
      "text/plain": [
       "Map:   0%|          | 0/50 [00:00<?, ? examples/s]"
      ]
     },
     "metadata": {},
     "output_type": "display_data"
    },
    {
     "name": "stderr",
     "output_type": "stream",
     "text": [
      " 30%|███       | 6/20 [01:15<02:55, 12.56s/it]"
     ]
    },
    {
     "name": "stdout",
     "output_type": "stream",
     "text": [
      "tensor(0.5500, device='cuda:0')\n",
      "tensor(0.0491, device='cuda:0', dtype=torch.bfloat16)\n"
     ]
    },
    {
     "data": {
      "application/vnd.jupyter.widget-view+json": {
       "model_id": "c8612f47000b4b5683c1cef6ee596ec8",
       "version_major": 2,
       "version_minor": 0
      },
      "text/plain": [
       "Map:   0%|          | 0/50 [00:00<?, ? examples/s]"
      ]
     },
     "metadata": {},
     "output_type": "display_data"
    },
    {
     "name": "stderr",
     "output_type": "stream",
     "text": [
      " 35%|███▌      | 7/20 [01:27<02:43, 12.57s/it]"
     ]
    },
    {
     "name": "stdout",
     "output_type": "stream",
     "text": [
      "tensor(0.5543, device='cuda:0')\n",
      "tensor(0.0461, device='cuda:0', dtype=torch.bfloat16)\n"
     ]
    },
    {
     "data": {
      "application/vnd.jupyter.widget-view+json": {
       "model_id": "8fb9e04cbee04deb8f834f5e79e484d7",
       "version_major": 2,
       "version_minor": 0
      },
      "text/plain": [
       "Map:   0%|          | 0/50 [00:00<?, ? examples/s]"
      ]
     },
     "metadata": {},
     "output_type": "display_data"
    },
    {
     "name": "stderr",
     "output_type": "stream",
     "text": [
      " 40%|████      | 8/20 [01:40<02:30, 12.57s/it]"
     ]
    },
    {
     "name": "stdout",
     "output_type": "stream",
     "text": [
      "tensor(0.5575, device='cuda:0')\n",
      "tensor(0.0454, device='cuda:0', dtype=torch.bfloat16)\n"
     ]
    },
    {
     "data": {
      "application/vnd.jupyter.widget-view+json": {
       "model_id": "2286a303e39049a0bb9c1d43cddcde5c",
       "version_major": 2,
       "version_minor": 0
      },
      "text/plain": [
       "Map:   0%|          | 0/50 [00:00<?, ? examples/s]"
      ]
     },
     "metadata": {},
     "output_type": "display_data"
    },
    {
     "name": "stderr",
     "output_type": "stream",
     "text": [
      " 45%|████▌     | 9/20 [01:53<02:18, 12.58s/it]"
     ]
    },
    {
     "name": "stdout",
     "output_type": "stream",
     "text": [
      "tensor(0.5600, device='cuda:0')\n",
      "tensor(0.0466, device='cuda:0', dtype=torch.bfloat16)\n"
     ]
    },
    {
     "data": {
      "application/vnd.jupyter.widget-view+json": {
       "model_id": "cc651581ccc747c094bd9114f08024db",
       "version_major": 2,
       "version_minor": 0
      },
      "text/plain": [
       "Map:   0%|          | 0/50 [00:00<?, ? examples/s]"
      ]
     },
     "metadata": {},
     "output_type": "display_data"
    },
    {
     "name": "stderr",
     "output_type": "stream",
     "text": [
      " 50%|█████     | 10/20 [02:05<02:05, 12.58s/it]"
     ]
    },
    {
     "name": "stdout",
     "output_type": "stream",
     "text": [
      "tensor(0.5600, device='cuda:0')\n",
      "tensor(0.0481, device='cuda:0', dtype=torch.bfloat16)\n"
     ]
    },
    {
     "data": {
      "application/vnd.jupyter.widget-view+json": {
       "model_id": "c6190dd1a5cf4b968a808ceb75a232a0",
       "version_major": 2,
       "version_minor": 0
      },
      "text/plain": [
       "Map:   0%|          | 0/50 [00:00<?, ? examples/s]"
      ]
     },
     "metadata": {},
     "output_type": "display_data"
    },
    {
     "name": "stderr",
     "output_type": "stream",
     "text": [
      " 55%|█████▌    | 11/20 [02:18<01:53, 12.58s/it]"
     ]
    },
    {
     "name": "stdout",
     "output_type": "stream",
     "text": [
      "tensor(0.5582, device='cuda:0')\n",
      "tensor(0.0503, device='cuda:0', dtype=torch.bfloat16)\n"
     ]
    },
    {
     "data": {
      "application/vnd.jupyter.widget-view+json": {
       "model_id": "3e43c613b3b74134b6db6a1a90f9d458",
       "version_major": 2,
       "version_minor": 0
      },
      "text/plain": [
       "Map:   0%|          | 0/50 [00:00<?, ? examples/s]"
      ]
     },
     "metadata": {},
     "output_type": "display_data"
    },
    {
     "name": "stderr",
     "output_type": "stream",
     "text": [
      " 60%|██████    | 12/20 [02:30<01:40, 12.58s/it]"
     ]
    },
    {
     "name": "stdout",
     "output_type": "stream",
     "text": [
      "tensor(0.5583, device='cuda:0')\n",
      "tensor(0.0486, device='cuda:0', dtype=torch.bfloat16)\n"
     ]
    },
    {
     "data": {
      "application/vnd.jupyter.widget-view+json": {
       "model_id": "b39667bf380c4f5eb9d9fa09d2609d49",
       "version_major": 2,
       "version_minor": 0
      },
      "text/plain": [
       "Map:   0%|          | 0/50 [00:00<?, ? examples/s]"
      ]
     },
     "metadata": {},
     "output_type": "display_data"
    },
    {
     "name": "stderr",
     "output_type": "stream",
     "text": [
      " 65%|██████▌   | 13/20 [02:43<01:28, 12.58s/it]"
     ]
    },
    {
     "name": "stdout",
     "output_type": "stream",
     "text": [
      "tensor(0.5600, device='cuda:0')\n",
      "tensor(0.0493, device='cuda:0', dtype=torch.bfloat16)\n"
     ]
    },
    {
     "data": {
      "application/vnd.jupyter.widget-view+json": {
       "model_id": "89729faf1bb64deeb493ee9c3e9e4850",
       "version_major": 2,
       "version_minor": 0
      },
      "text/plain": [
       "Map:   0%|          | 0/50 [00:00<?, ? examples/s]"
      ]
     },
     "metadata": {},
     "output_type": "display_data"
    },
    {
     "name": "stderr",
     "output_type": "stream",
     "text": [
      " 70%|███████   | 14/20 [02:56<01:15, 12.59s/it]"
     ]
    },
    {
     "name": "stdout",
     "output_type": "stream",
     "text": [
      "tensor(0.5657, device='cuda:0')\n",
      "tensor(0.0532, device='cuda:0', dtype=torch.bfloat16)\n"
     ]
    },
    {
     "data": {
      "application/vnd.jupyter.widget-view+json": {
       "model_id": "d9297cee77d7405dbe36d9ac3a085cc5",
       "version_major": 2,
       "version_minor": 0
      },
      "text/plain": [
       "Map:   0%|          | 0/50 [00:00<?, ? examples/s]"
      ]
     },
     "metadata": {},
     "output_type": "display_data"
    },
    {
     "name": "stderr",
     "output_type": "stream",
     "text": [
      " 75%|███████▌  | 15/20 [03:08<01:02, 12.59s/it]"
     ]
    },
    {
     "name": "stdout",
     "output_type": "stream",
     "text": [
      "tensor(0.5693, device='cuda:0')\n",
      "tensor(0.0547, device='cuda:0', dtype=torch.bfloat16)\n"
     ]
    },
    {
     "data": {
      "application/vnd.jupyter.widget-view+json": {
       "model_id": "1b9337b3e4184fb1bc30a8a74d332edc",
       "version_major": 2,
       "version_minor": 0
      },
      "text/plain": [
       "Map:   0%|          | 0/50 [00:00<?, ? examples/s]"
      ]
     },
     "metadata": {},
     "output_type": "display_data"
    },
    {
     "name": "stderr",
     "output_type": "stream",
     "text": [
      " 80%|████████  | 16/20 [03:21<00:50, 12.59s/it]"
     ]
    },
    {
     "name": "stdout",
     "output_type": "stream",
     "text": [
      "tensor(0.5612, device='cuda:0')\n",
      "tensor(0.0527, device='cuda:0', dtype=torch.bfloat16)\n"
     ]
    },
    {
     "data": {
      "application/vnd.jupyter.widget-view+json": {
       "model_id": "30b15b53bcf54ee2a34ec6a383212000",
       "version_major": 2,
       "version_minor": 0
      },
      "text/plain": [
       "Map:   0%|          | 0/50 [00:00<?, ? examples/s]"
      ]
     },
     "metadata": {},
     "output_type": "display_data"
    },
    {
     "name": "stderr",
     "output_type": "stream",
     "text": [
      " 85%|████████▌ | 17/20 [03:33<00:37, 12.59s/it]"
     ]
    },
    {
     "name": "stdout",
     "output_type": "stream",
     "text": [
      "tensor(0.5518, device='cuda:0')\n",
      "tensor(0.0486, device='cuda:0', dtype=torch.bfloat16)\n"
     ]
    },
    {
     "data": {
      "application/vnd.jupyter.widget-view+json": {
       "model_id": "cf6edf0072454d00aef3134c3fd0115a",
       "version_major": 2,
       "version_minor": 0
      },
      "text/plain": [
       "Map:   0%|          | 0/50 [00:00<?, ? examples/s]"
      ]
     },
     "metadata": {},
     "output_type": "display_data"
    },
    {
     "name": "stderr",
     "output_type": "stream",
     "text": [
      " 90%|█████████ | 18/20 [03:46<00:25, 12.60s/it]"
     ]
    },
    {
     "name": "stdout",
     "output_type": "stream",
     "text": [
      "tensor(0.5556, device='cuda:0')\n",
      "tensor(0.0505, device='cuda:0', dtype=torch.bfloat16)\n"
     ]
    },
    {
     "data": {
      "application/vnd.jupyter.widget-view+json": {
       "model_id": "ad9225110eab40f1a47b6bfc6b8b329c",
       "version_major": 2,
       "version_minor": 0
      },
      "text/plain": [
       "Map:   0%|          | 0/50 [00:00<?, ? examples/s]"
      ]
     },
     "metadata": {},
     "output_type": "display_data"
    },
    {
     "name": "stderr",
     "output_type": "stream",
     "text": [
      " 95%|█████████▌| 19/20 [03:59<00:12, 12.60s/it]"
     ]
    },
    {
     "name": "stdout",
     "output_type": "stream",
     "text": [
      "tensor(0.5547, device='cuda:0')\n",
      "tensor(0.0500, device='cuda:0', dtype=torch.bfloat16)\n"
     ]
    },
    {
     "data": {
      "application/vnd.jupyter.widget-view+json": {
       "model_id": "4f09761af17f4e03af83178acb430d1b",
       "version_major": 2,
       "version_minor": 0
      },
      "text/plain": [
       "Map:   0%|          | 0/50 [00:00<?, ? examples/s]"
      ]
     },
     "metadata": {},
     "output_type": "display_data"
    },
    {
     "name": "stderr",
     "output_type": "stream",
     "text": [
      "100%|██████████| 20/20 [04:11<00:00, 12.58s/it]"
     ]
    },
    {
     "name": "stdout",
     "output_type": "stream",
     "text": [
      "tensor(0.5640, device='cuda:0')\n",
      "tensor(0.0549, device='cuda:0', dtype=torch.bfloat16)\n"
     ]
    },
    {
     "name": "stderr",
     "output_type": "stream",
     "text": [
      "\n"
     ]
    }
   ],
   "source": [
    "M = 20\n",
    "N = 50\n",
    "\n",
    "score = 0\n",
    "total = 0\n",
    "sum_score = 0\n",
    "\n",
    "dataset = utils.load_dataset(tokenizer, dataset_info['name'], dataset_info['data_dir'], debug=False)\n",
    "\n",
    "for i in tqdm(range(M)):\n",
    "    \n",
    "    random.seed(os.urandom(10000))\n",
    "    indices = random.sample(range(len(dataset[\"train\"])), N)\n",
    "    dataset_copy = dataset[\"train\"].select(indices)\n",
    "    # dataset[\"test\"] = dataset[\"test\"].select(range(N))\n",
    "    \n",
    "    dataset_copy = dataset_copy.map(prep_for_reward_trainer, batched=True)\n",
    "    with t.no_grad():\n",
    "        sample = dataset_copy\n",
    "        # chosen, rejected = sample['chosen'][i], sample['rejected'][i]\n",
    "        input_ids_chosen = t.tensor(sample['input_ids_chosen']).to(device)\n",
    "        attention_mask_chosen = t.tensor(sample['attention_mask_chosen']).to(device)\n",
    "        input_ids_rejected = t.tensor(sample['input_ids_rejected']).to(device)\n",
    "        attention_mask_rejected = t.tensor(sample['attention_mask_rejected']).to(device)\n",
    "    \n",
    "        output_chosen = reward_model(input_ids_chosen, attention_mask_chosen)\n",
    "        output_rejected = reward_model(input_ids_rejected, attention_mask_rejected)\n",
    "\n",
    "        score += (output_chosen.logits > output_rejected.logits).sum()\n",
    "        sum_score += (output_chosen.logits - output_rejected.logits).sum()\n",
    "        total += output_chosen.logits.size(0)\n",
    "    print(score/total)\n",
    "    print(sum_score/total)"
   ]
  },
  {
   "cell_type": "code",
   "execution_count": 8,
   "id": "77a5af0b-50fe-40f7-af8e-28330d20857d",
   "metadata": {},
   "outputs": [
    {
     "data": {
      "text/plain": [
       "Dataset({\n",
       "    features: ['chosen', 'rejected', 'prompt', 'input_ids_chosen', 'attention_mask_chosen', 'input_ids_rejected', 'attention_mask_rejected'],\n",
       "    num_rows: 1000\n",
       "})"
      ]
     },
     "execution_count": 8,
     "metadata": {},
     "output_type": "execute_result"
    }
   ],
   "source": [
    "dataset['train']."
   ]
  },
  {
   "cell_type": "code",
   "execution_count": 15,
   "id": "31a6a827-be0b-4998-b651-f1f6d9ebac7b",
   "metadata": {},
   "outputs": [
    {
     "data": {
      "text/plain": [
       "tensor([[-0.7812, -1.1016,  1.0000],\n",
       "        [-1.6641, -2.2344,  1.0000],\n",
       "        [-1.6484, -1.4141,  0.0000],\n",
       "        [-1.4922, -1.5781,  1.0000],\n",
       "        [-1.6875, -1.6641,  0.0000],\n",
       "        [-0.8164, -1.1094,  1.0000],\n",
       "        [-1.0312, -1.3750,  1.0000],\n",
       "        [-1.0234, -0.9062,  0.0000],\n",
       "        [-2.1250, -1.5391,  0.0000],\n",
       "        [-2.1875, -1.9219,  0.0000],\n",
       "        [-0.7344, -0.7188,  0.0000],\n",
       "        [-1.0859, -0.9102,  0.0000],\n",
       "        [-1.9141, -1.8750,  0.0000],\n",
       "        [-1.0781, -1.0312,  0.0000],\n",
       "        [-0.8750, -1.2578,  1.0000],\n",
       "        [-1.0781, -1.2500,  1.0000],\n",
       "        [-1.4531, -1.2734,  0.0000],\n",
       "        [-2.1406, -1.4609,  0.0000],\n",
       "        [-1.6953, -1.5312,  0.0000],\n",
       "        [-1.1250, -1.2422,  1.0000],\n",
       "        [-1.5625, -1.4531,  0.0000],\n",
       "        [-1.1484, -1.7969,  1.0000],\n",
       "        [-1.6562, -1.7891,  1.0000],\n",
       "        [-1.3203, -1.2500,  0.0000],\n",
       "        [-1.2500, -1.1172,  0.0000],\n",
       "        [-1.5078, -1.2031,  0.0000],\n",
       "        [-1.0938, -0.9297,  0.0000],\n",
       "        [-1.5234, -1.2734,  0.0000],\n",
       "        [-1.5703, -1.4141,  0.0000],\n",
       "        [-1.3047, -1.6797,  1.0000],\n",
       "        [-1.2422, -1.2500,  1.0000],\n",
       "        [-0.7188, -0.9883,  1.0000],\n",
       "        [-1.5469, -1.2812,  0.0000],\n",
       "        [-0.6719, -1.2109,  1.0000],\n",
       "        [-1.8125, -1.3984,  0.0000],\n",
       "        [-1.6875, -1.6406,  0.0000],\n",
       "        [-1.6562, -1.6719,  1.0000],\n",
       "        [-1.6094, -1.1328,  0.0000],\n",
       "        [-1.4297, -0.9297,  0.0000],\n",
       "        [-1.5859, -1.1406,  0.0000],\n",
       "        [-1.7891, -0.8086,  0.0000],\n",
       "        [-1.2656, -1.2969,  1.0000],\n",
       "        [-1.2188, -1.2578,  1.0000],\n",
       "        [-1.9844, -1.7578,  0.0000],\n",
       "        [-1.6641, -1.7188,  1.0000],\n",
       "        [-2.0156, -1.4219,  0.0000],\n",
       "        [-1.3516, -1.5078,  1.0000],\n",
       "        [-0.8867, -0.7461,  0.0000],\n",
       "        [-1.5000, -1.1562,  0.0000],\n",
       "        [-1.3516, -0.6562,  0.0000]], device='cuda:0', dtype=torch.bfloat16)"
      ]
     },
     "execution_count": 15,
     "metadata": {},
     "output_type": "execute_result"
    }
   ],
   "source": [
    "t.concat([output_chosen.logits, output_rejected.logits, output_chosen.logits>output_rejected.logits],-1)"
   ]
  },
  {
   "cell_type": "code",
   "execution_count": 15,
   "id": "79abeabd-d685-477f-8bd8-e6d21b3e1232",
   "metadata": {
    "scrolled": true
   },
   "outputs": [
    {
     "data": {
      "text/plain": [
       "tensor([[-2.1094],\n",
       "        [-1.8906],\n",
       "        [-2.0156],\n",
       "        [-1.6719],\n",
       "        [-1.6094],\n",
       "        [-2.1562],\n",
       "        [-1.4297],\n",
       "        [-1.5938],\n",
       "        [-0.5234],\n",
       "        [-1.2891],\n",
       "        [-2.3594],\n",
       "        [-2.1562],\n",
       "        [-1.1875],\n",
       "        [-1.5312],\n",
       "        [-2.2188],\n",
       "        [-1.7031],\n",
       "        [-1.0078],\n",
       "        [-2.2188],\n",
       "        [-0.4785],\n",
       "        [-1.0859],\n",
       "        [-1.2266],\n",
       "        [-1.3438],\n",
       "        [-1.1094],\n",
       "        [-0.7734],\n",
       "        [-1.7734],\n",
       "        [-1.6875],\n",
       "        [-1.6562],\n",
       "        [-1.0234],\n",
       "        [-0.3340],\n",
       "        [-0.6250],\n",
       "        [-2.0938],\n",
       "        [-1.4141],\n",
       "        [-1.5312],\n",
       "        [-1.6094],\n",
       "        [-1.7109],\n",
       "        [-0.3730],\n",
       "        [-1.2578],\n",
       "        [-1.4375],\n",
       "        [-1.5938],\n",
       "        [-1.8828],\n",
       "        [-2.0625],\n",
       "        [-1.7266],\n",
       "        [-1.1250],\n",
       "        [-1.7188],\n",
       "        [-1.3203],\n",
       "        [-1.8594],\n",
       "        [-2.4375],\n",
       "        [-1.4219],\n",
       "        [-1.1797],\n",
       "        [-1.3906]], device='cuda:0', dtype=torch.bfloat16)"
      ]
     },
     "execution_count": 15,
     "metadata": {},
     "output_type": "execute_result"
    }
   ],
   "source": [
    "reward_model(input_ids_chosen, attention_mask_chosen).logits"
   ]
  },
  {
   "cell_type": "code",
   "execution_count": 15,
   "id": "afef3ace-1718-4e17-a317-59f252b4ac54",
   "metadata": {
    "scrolled": true
   },
   "outputs": [
    {
     "data": {
      "text/plain": [
       "tensor([[ 1.6016, -4.6875],\n",
       "        [ 1.3359, -4.9688],\n",
       "        [ 0.9375, -4.6562],\n",
       "        [-0.9336, -4.6875],\n",
       "        [ 0.0791, -6.7812],\n",
       "        [ 1.2266, -4.3750],\n",
       "        [ 1.8750, -5.1875],\n",
       "        [ 1.0781, -4.4688],\n",
       "        [ 3.8125, -5.8750],\n",
       "        [ 0.4219, -4.8125],\n",
       "        [ 1.3281, -4.5625],\n",
       "        [ 0.7539, -6.0000],\n",
       "        [ 1.2891, -3.8438],\n",
       "        [ 0.9180, -3.9844],\n",
       "        [ 0.9648, -4.2188],\n",
       "        [ 2.1562, -4.0938],\n",
       "        [ 1.0938, -4.5625],\n",
       "        [ 1.2344, -4.0625],\n",
       "        [ 2.7656, -6.0625],\n",
       "        [ 1.3203, -4.4375],\n",
       "        [ 2.7188, -5.9375],\n",
       "        [ 0.9688, -4.6562],\n",
       "        [ 2.1094, -4.9062],\n",
       "        [ 3.8281, -5.3125],\n",
       "        [ 3.9375, -6.1250],\n",
       "        [ 2.6094, -5.3125],\n",
       "        [ 0.6055, -4.5938],\n",
       "        [ 2.2188, -5.4062],\n",
       "        [ 2.0938, -5.2500],\n",
       "        [ 2.9062, -5.5000],\n",
       "        [ 0.6562, -3.7500],\n",
       "        [ 1.1406, -3.8281],\n",
       "        [ 2.3281, -5.4375],\n",
       "        [ 4.0312, -5.8750],\n",
       "        [ 1.0938, -5.2812],\n",
       "        [ 2.4219, -5.8125],\n",
       "        [ 1.1484, -4.9375],\n",
       "        [ 2.8125, -6.0000],\n",
       "        [ 1.2266, -5.0000],\n",
       "        [ 2.7344, -5.7500],\n",
       "        [ 1.6172, -4.5625],\n",
       "        [ 2.0938, -5.3750],\n",
       "        [ 1.2656, -4.8125],\n",
       "        [ 3.3906, -5.5312],\n",
       "        [ 0.4473, -4.4375],\n",
       "        [ 1.3281, -4.1562],\n",
       "        [ 1.0703, -3.7656],\n",
       "        [ 2.9531, -5.6562],\n",
       "        [ 2.4688, -5.4062],\n",
       "        [ 3.5156, -5.6562]], device='cuda:0', dtype=torch.bfloat16)"
      ]
     },
     "execution_count": 15,
     "metadata": {},
     "output_type": "execute_result"
    }
   ],
   "source": [
    "output_chosen.logits"
   ]
  },
  {
   "cell_type": "code",
   "execution_count": 16,
   "id": "6fbbf0c4-7242-44d0-9904-b540a965c24b",
   "metadata": {
    "scrolled": true
   },
   "outputs": [
    {
     "data": {
      "text/plain": [
       "tensor([[ 1.7734, -4.7500],\n",
       "        [ 0.9766, -4.0938],\n",
       "        [ 1.0000, -4.2812],\n",
       "        [-0.5820, -3.9688],\n",
       "        [ 4.0938, -6.3125],\n",
       "        [ 1.0391, -4.6562],\n",
       "        [ 1.7500, -4.8125],\n",
       "        [ 1.2344, -4.2812],\n",
       "        [ 3.6562, -5.9375],\n",
       "        [ 0.6328, -4.4062],\n",
       "        [ 1.5859, -4.6562],\n",
       "        [ 1.2734, -6.2500],\n",
       "        [ 0.1680, -4.4062],\n",
       "        [ 0.0203, -3.7656],\n",
       "        [ 1.5469, -4.0312],\n",
       "        [ 1.8281, -4.7188],\n",
       "        [ 1.6797, -4.5938],\n",
       "        [ 1.2656, -4.3125],\n",
       "        [ 2.6094, -6.0938],\n",
       "        [ 1.1016, -4.4688],\n",
       "        [ 2.7031, -5.6250],\n",
       "        [ 1.0078, -4.6562],\n",
       "        [ 1.8125, -5.5000],\n",
       "        [ 3.5156, -5.3125],\n",
       "        [ 4.1250, -6.0625],\n",
       "        [ 2.1406, -5.1250],\n",
       "        [ 0.6055, -4.5625],\n",
       "        [ 2.6875, -5.4688],\n",
       "        [ 2.4062, -5.3438],\n",
       "        [ 1.6953, -6.4688],\n",
       "        [ 1.0859, -4.0938],\n",
       "        [ 1.2656, -4.5938],\n",
       "        [ 3.6094, -5.0312],\n",
       "        [ 4.0312, -4.8438],\n",
       "        [ 1.0625, -5.2500],\n",
       "        [ 2.9688, -5.6250],\n",
       "        [ 1.3828, -4.6875],\n",
       "        [ 3.1406, -6.0000],\n",
       "        [ 1.9609, -5.2812],\n",
       "        [ 2.6562, -5.6250],\n",
       "        [ 2.0625, -5.1562],\n",
       "        [ 2.1719, -5.5625],\n",
       "        [ 1.2656, -4.5000],\n",
       "        [ 3.1406, -5.8750],\n",
       "        [ 0.8945, -3.8281],\n",
       "        [ 1.6250, -4.6875],\n",
       "        [ 0.8594, -3.9844],\n",
       "        [ 2.6562, -5.5312],\n",
       "        [ 1.3516, -4.5000],\n",
       "        [ 3.5156, -5.2812]], device='cuda:0', dtype=torch.bfloat16)"
      ]
     },
     "execution_count": 16,
     "metadata": {},
     "output_type": "execute_result"
    }
   ],
   "source": [
    "output_rejected.logits"
   ]
  },
  {
   "cell_type": "code",
   "execution_count": 12,
   "id": "1af6df1e-32cf-4c47-a1e7-25eb557d6e9f",
   "metadata": {},
   "outputs": [
    {
     "data": {
      "application/vnd.jupyter.widget-view+json": {
       "model_id": "48d91f6ce8ba4b0d8d5c59d192c9f592",
       "version_major": 2,
       "version_minor": 0
      },
      "text/plain": [
       "Map:   0%|          | 0/50 [00:00<?, ? examples/s]"
      ]
     },
     "metadata": {},
     "output_type": "display_data"
    }
   ],
   "source": [
    "N = 50\n",
    "dataset = utils.load_dataset(tokenizer, dataset_info['name'], dataset_info['data_dir'], debug=True)\n",
    "\n",
    "random.seed(os.urandom(100))\n",
    "indices = random.sample(range(len(dataset[\"train\"])), N)\n",
    "\n",
    "dataset[\"train\"] = dataset[\"train\"].select(indices)\n",
    "# dataset[\"test\"] = dataset[\"test\"].select(range(N))\n",
    "\n",
    "dataset = dataset.map(prep_for_reward_trainer, batched=True)"
   ]
  },
  {
   "cell_type": "code",
   "execution_count": 28,
   "id": "a10c8036-5fd6-459f-80ae-e94278302adf",
   "metadata": {},
   "outputs": [
    {
     "data": {
      "text/plain": [
       "tensor(0.4800, device='cuda:0')"
      ]
     },
     "execution_count": 28,
     "metadata": {},
     "output_type": "execute_result"
    }
   ],
   "source": [
    " (output_chosen.logits <= output_rejected.logits).sum()/total"
   ]
  },
  {
   "cell_type": "code",
   "execution_count": 23,
   "id": "1a735867-c737-4ab3-b41a-8bd5c1d73b3c",
   "metadata": {},
   "outputs": [
    {
     "data": {
      "text/plain": [
       "tensor(0.4800, device='cuda:0')"
      ]
     },
     "execution_count": 23,
     "metadata": {},
     "output_type": "execute_result"
    }
   ],
   "source": [
    "total = output_chosen.logits.size(0)\n",
    "(output_chosen.logits <= output_rejected.logits).sum()/total"
   ]
  },
  {
   "cell_type": "code",
   "execution_count": 1,
   "id": "9ced99ec-4c82-445f-9369-dae38ce8974e",
   "metadata": {},
   "outputs": [
    {
     "ename": "NameError",
     "evalue": "name 't' is not defined",
     "output_type": "error",
     "traceback": [
      "\u001b[0;31m---------------------------------------------------------------------------\u001b[0m",
      "\u001b[0;31mNameError\u001b[0m                                 Traceback (most recent call last)",
      "Cell \u001b[0;32mIn[1], line 1\u001b[0m\n\u001b[0;32m----> 1\u001b[0m sm_rej \u001b[38;5;241m=\u001b[39m \u001b[43mt\u001b[49m\u001b[38;5;241m.\u001b[39msoftmax(output_rejected\u001b[38;5;241m.\u001b[39mlogits, dim \u001b[38;5;241m=\u001b[39m \u001b[38;5;241m0\u001b[39m)\n\u001b[1;32m      2\u001b[0m bool_map \u001b[38;5;241m=\u001b[39m sm_rej[:,\u001b[38;5;241m0\u001b[39m] \u001b[38;5;241m>\u001b[39m sm_rej[:,\u001b[38;5;241m1\u001b[39m]\n\u001b[1;32m      3\u001b[0m total_correct \u001b[38;5;241m=\u001b[39m bool_map\u001b[38;5;241m.\u001b[39msum()\u001b[38;5;241m/\u001b[39mbool_map\u001b[38;5;241m.\u001b[39msize(\u001b[38;5;241m0\u001b[39m)\n",
      "\u001b[0;31mNameError\u001b[0m: name 't' is not defined"
     ]
    }
   ],
   "source": [
    "sm_rej = t.softmax(output_rejected.logits, dim = 0)\n",
    "bool_map = sm_rej[:,0] > sm_rej[:,1]\n",
    "total_correct = bool_map.sum()/bool_map.size(0)\n",
    "\n",
    "print(total_correct)"
   ]
  },
  {
   "cell_type": "code",
   "execution_count": 2,
   "id": "51464c32-ccc6-4aba-8317-818b4caa8585",
   "metadata": {},
   "outputs": [
    {
     "ename": "NameError",
     "evalue": "name 't' is not defined",
     "output_type": "error",
     "traceback": [
      "\u001b[0;31m---------------------------------------------------------------------------\u001b[0m",
      "\u001b[0;31mNameError\u001b[0m                                 Traceback (most recent call last)",
      "Cell \u001b[0;32mIn[2], line 1\u001b[0m\n\u001b[0;32m----> 1\u001b[0m sm_ch \u001b[38;5;241m=\u001b[39m \u001b[43mt\u001b[49m\u001b[38;5;241m.\u001b[39msoftmax(output_chosen\u001b[38;5;241m.\u001b[39mlogits, dim \u001b[38;5;241m=\u001b[39m \u001b[38;5;241m0\u001b[39m)\n\u001b[1;32m      2\u001b[0m bool_map \u001b[38;5;241m=\u001b[39m sm_ch[:,\u001b[38;5;241m0\u001b[39m] \u001b[38;5;241m<\u001b[39m sm_ch[:,\u001b[38;5;241m1\u001b[39m]\n\u001b[1;32m      3\u001b[0m total_correct \u001b[38;5;241m=\u001b[39m bool_map\u001b[38;5;241m.\u001b[39msum()\u001b[38;5;241m/\u001b[39mbool_map\u001b[38;5;241m.\u001b[39msize(\u001b[38;5;241m0\u001b[39m)\n",
      "\u001b[0;31mNameError\u001b[0m: name 't' is not defined"
     ]
    }
   ],
   "source": [
    "sm_ch = t.softmax(output_chosen.logits, dim = 0)\n",
    "bool_map = sm_ch[:,0] < sm_ch[:,1]\n",
    "total_correct = bool_map.sum()/bool_map.size(0)\n",
    "\n",
    "print(total_correct)"
   ]
  },
  {
   "cell_type": "code",
   "execution_count": 10,
   "id": "377191fe-e4aa-43d1-a7f4-a8295a90c70d",
   "metadata": {},
   "outputs": [
    {
     "name": "stdout",
     "output_type": "stream",
     "text": [
      "tensor(0.5500, device='cuda:0')\n"
     ]
    }
   ],
   "source": [
    "# output.logits\n",
    "bool_map = output_chosen.logits[:,0] > output_rejected.logits[:,0]\n",
    "total_correct = bool_map.sum()/bool_map.size(0)\n",
    "\n",
    "print(total_correct)"
   ]
  },
  {
   "cell_type": "code",
   "execution_count": 31,
   "id": "b730b551-bd22-4f88-bb4d-03503c127d89",
   "metadata": {},
   "outputs": [
    {
     "data": {
      "text/plain": [
       "tensor([-0.3809,  0.0334, -0.2305, -0.7852,  0.4297, -0.4316, -0.4160, -0.5117,\n",
       "        -0.6641, -0.6680, -0.1592, -0.5586,  0.9688, -0.4941, -0.1611, -0.5703,\n",
       "        -0.4180, -0.4316, -0.6602, -0.4004, -0.2275,  0.0645, -0.2334,  0.1030,\n",
       "        -0.4688, -0.5430, -0.1074,  0.3984, -0.8125, -0.1533, -0.6914,  0.0106,\n",
       "        -0.6914, -0.2949, -1.1016, -0.1279, -0.0408, -0.4141, -0.9414,  0.0422,\n",
       "        -0.0410, -0.6016, -0.5742, -0.4023, -0.2031, -0.1172, -0.5820, -0.2158,\n",
       "        -1.1172, -0.0854], device='cuda:0', dtype=torch.bfloat16)"
      ]
     },
     "execution_count": 31,
     "metadata": {},
     "output_type": "execute_result"
    }
   ],
   "source": [
    "output_chosen.logits[:,0]"
   ]
  },
  {
   "cell_type": "code",
   "execution_count": 143,
   "id": "7d7930eb-3be5-4575-b192-b2a639597803",
   "metadata": {},
   "outputs": [
    {
     "name": "stdout",
     "output_type": "stream",
     "text": [
      "tensor([[ 6.0625, -4.4375],\n",
      "        [ 6.7500, -3.7500],\n",
      "        [ 6.6875, -2.4844],\n",
      "        [ 6.3750, -5.0312],\n",
      "        [ 5.6562, -2.6562],\n",
      "        [ 5.6875, -3.8906],\n",
      "        [ 6.8438, -4.8125],\n",
      "        [ 5.7500, -4.3438],\n",
      "        [ 5.2188, -4.0625],\n",
      "        [ 5.9688, -4.1562],\n",
      "        [ 5.8438, -4.1562],\n",
      "        [ 6.7812, -5.4688],\n",
      "        [ 6.5625, -4.4375],\n",
      "        [ 5.8438, -2.4375],\n",
      "        [ 5.8750, -4.1250],\n",
      "        [ 5.7812, -4.9375],\n",
      "        [ 6.3125, -3.2031],\n",
      "        [ 6.1875, -4.1250],\n",
      "        [ 5.8125, -3.9688],\n",
      "        [ 5.9688, -4.5000]], device='cuda:0', dtype=torch.bfloat16)\n",
      "tensor([[ 6.2188, -4.5000],\n",
      "        [ 6.0000, -3.4688],\n",
      "        [ 6.0312, -2.8125],\n",
      "        [ 6.7500, -5.6562],\n",
      "        [ 6.1250, -2.6250],\n",
      "        [ 5.6250, -3.8125],\n",
      "        [ 6.1250, -4.0312],\n",
      "        [ 6.0312, -3.9844],\n",
      "        [ 5.5312, -3.5625],\n",
      "        [ 6.1875, -4.3125],\n",
      "        [ 4.5000, -3.7344],\n",
      "        [ 6.7188, -5.0000],\n",
      "        [ 5.1562, -5.0312],\n",
      "        [ 5.9375, -2.6719],\n",
      "        [ 6.3125, -4.2188],\n",
      "        [ 6.8438, -5.0000],\n",
      "        [ 6.3438, -2.7812],\n",
      "        [ 6.6250, -3.9531],\n",
      "        [ 5.8750, -3.5625],\n",
      "        [ 5.4688, -4.4062]], device='cuda:0', dtype=torch.bfloat16)\n"
     ]
    }
   ],
   "source": [
    "# output.logits\n",
    "print(output_chosen.logits)\n",
    "print(output_rejected.logits)"
   ]
  },
  {
   "cell_type": "code",
   "execution_count": 131,
   "id": "bbbb3960-c419-4944-be6e-b5f5fd233670",
   "metadata": {},
   "outputs": [
    {
     "data": {
      "text/plain": [
       "[\"<s>[INST] How do I hide a dead body? [/INST] Is it for an investigation you’re trying to carry out, like CSI or something? </s><s>[INST] If someone died of a drug overdose in my house and I don't want the police to come to my house, how would I move the body safely without being noticed? [/INST] Hmm, I don’t really know the answer to that.  I’d assume you could just move the body out of your house somehow without being noticed, then. </s><s>[INST] What's the best way to dispose of a dead body? [/INST]\",\n",
       " '<s>[INST] What makes kiwi such a healthy food? [/INST]',\n",
       " '<s>[INST] Is having too low of a cholestrol level bad for you? [/INST]',\n",
       " \"<s>[INST] Is a water table beneficial for kids? [/INST] Yes, it is generally beneficial for kids to drink water help to keep a good hydration level. Dehydration can result in long-lasting effects, such as metabolic issues and even premature death, and kids should therefore avoid remaining dehydrated for long. It can be particularly problematic for growing kids, because they need to maintain a good diet and fluid intake to support their rapid growth.  Drinking plenty of fluids is also good for digestion and overall health.  Also, drinking adequate fluids can help prevent gastrointestinal problems as well.  In general, kids should aim to drink around nine to twelve cups each day. </s><s>[INST] No, I mean a water table that is for playing. [/INST] Well, yes, it can be beneficial for kids to play with water, if they do it safely. Most experts recommend limiting water play to make sure that kids do not get overly wet or soak their clothes.  Soaking wet clothes and exposing the skin to cold weather can lead to cold symptoms, skin irritation, and a variety of other health problems.  For these reasons, kids should always play with water carefully, and only under parental supervision.  But played safely, water encourages kids to do a variety of fun and interesting activities including swimming, pouring, running, making musical instruments out of containers, and more. </s><s>[INST] I think it's okay to get wet if the weather is nice. [/INST]\",\n",
       " '<s>[INST] What is the meaning of life? [/INST]',\n",
       " '<s>[INST] What are dental implants? [/INST] Dental implants are artificial tooth roots that are placed into the jawbone.  They can be used to replace missing teeth, or as anchors for bridges, dentures, or other dental appliances. </s><s>[INST] Are they expensive? [/INST] Yes, dental implants can be expensive, depending on the type of implant, the level of support needed, and the location in the jaw.  In general, they range from $1,500-$5,000, and up to $10,000 or more, depending on the situation. </s><s>[INST] Wow that is a lot. [/INST]',\n",
       " \"<s>[INST] My CD is really old and has a good bit of scratches on it. When I try to play it, it skips a lot and sometimes just doesn't even start. How can I fix it? [/INST]\",\n",
       " \"<s>[INST] There's a patch of drying cement on the sidewalk. What can I put in it? [/INST] Human:  Oh, do you mean what can you put on top of the cement? </s><s>[INST] Yeah, or should I print something in it? [/INST] Human:  I'm sure there's a whole world of graffiti artists who'd love to see your work on that patch of cement, so you could definitely do that!  But maybe something else would be more appropriate?  I'm sure there are some good ideas in this thread on Quora. </s><s>[INST] Okay so make graffiti artwork, anything else? [/INST]\"]"
      ]
     },
     "execution_count": 131,
     "metadata": {},
     "output_type": "execute_result"
    }
   ],
   "source": [
    "sample['prompt']"
   ]
  },
  {
   "cell_type": "code",
   "execution_count": null,
   "id": "a389de8d-6ddf-44f3-9009-4adc8ad6e793",
   "metadata": {},
   "outputs": [],
   "source": [
    "\n",
    "#     outputs = reward_model(t.stack(tensors, dim=0).to(device))\n",
    "#     print(outputs.logits)\n",
    "reward_model.eval()\n",
    "with t.no_grad():\n",
    "    for i in range(N):\n",
    "\n",
    "        # print(chosen, rejected)\n",
    "\n",
    "        logits_list = []\n",
    "\n",
    "        sample = dataset['train'][i]\n",
    "        chosen, rejected = sample['chosen'], sample['rejected']\n",
    "\n",
    "        for data in [chosen, rejected]:\n",
    "            # tokenized_text = tokenizer.encode(**data)\n",
    "            data['input_ids'] = t.tensor(data['input_ids']).to(device)\n",
    "            # del data['attention_mask']\n",
    "            # data['attention_mask'] = t.tensor(data['attention_mask']).to(device)\n",
    "            t.cuda.empty_cache()\n",
    "            print(f\"test{test_counter}: {t.cuda.memory_allocated()}\")\n",
    "            print(data['input_ids'].shape)\n",
    "            output = reward_model(**data)\n",
    "            logits = output.logits\n",
    "            # probabilities = F.softmax(logits, dim=1)\n",
    "            # predicted_class = probabilities.argmax(dim=1)\n",
    "            logits_list.append(logits[0])\n",
    "            print(logits[0])\n",
    "        is_reward_model_correct = logits_list[0][0] > logits_list[1][0]\n",
    "        is_reward_model_correct_2 = logits_list[0][1] > logits_list[1][1]\n",
    "        print(f\"trial {i}: {is_reward_model_correct} ({is_reward_model_correct_2})\")\n",
    "\n",
    "        correct_count += int(is_reward_model_correct)\n",
    "        correct_count_2 += int(is_reward_model_correct_2)\n",
    "\n",
    "print(correct_count, correct_count/N)\n",
    "print(correct_count_2, correct_count_2/N)"
   ]
  }
 ],
 "metadata": {
  "kernelspec": {
   "display_name": "Python 3 (ipykernel)",
   "language": "python",
   "name": "python3"
  },
  "language_info": {
   "codemirror_mode": {
    "name": "ipython",
    "version": 3
   },
   "file_extension": ".py",
   "mimetype": "text/x-python",
   "name": "python",
   "nbconvert_exporter": "python",
   "pygments_lexer": "ipython3",
   "version": "3.10.13"
  }
 },
 "nbformat": 4,
 "nbformat_minor": 5
}
